{
 "cells": [
  {
   "cell_type": "markdown",
   "metadata": {},
   "source": [
    "# Exercises\n",
    "\n",
    "There are three exercises in this notebook:\n",
    "\n",
    "1. Use the cross-validation method to test the linear regression with different $\\alpha$ values, at least three.\n",
    "2. Implement a SGD method that will train the Lasso regression for 10 epochs.\n",
    "3. Extend the Fisher's classifier to work with two features. Use the class as the $y$."
   ]
  },
  {
   "cell_type": "markdown",
   "metadata": {},
   "source": [
    "## 1. Cross-validation linear regression\n",
    "\n",
    "You need to change the variable ``alpha`` to be a list of alphas. Next do a loop and finally compare the results."
   ]
  },
  {
   "cell_type": "code",
   "execution_count": 37,
   "metadata": {},
   "outputs": [
    {
     "name": "stdout",
     "output_type": "stream",
     "text": [
      "Dla wybranych wartości parametru regularyzującego, przyjmując MSE jako 'quality metric' najlepsze wyniki otrzymano dla parametru α=0.1.\n",
      "Dla tej wartości MSE wyniosło 426.04507708317476, a wyznaczone parametry regresji to a=1.169787574869774, b=-101.72397080681442, gdzie 'a' to 'wpływ' wzrostu na wagę, a 'b' waga 'bazowa'.\n"
     ]
    }
   ],
   "source": [
    "import numpy as np\n",
    "def reg_predict(inputs, w, b):\n",
    "    results = []\n",
    "    for inp in inputs:\n",
    "        results.append(inp*w+b)\n",
    "    return results\n",
    "\n",
    "\n",
    "x = np.array([188, 181, 197, 168, 167, 187, 178, 194, 140, 176, 168, 192, 173, 142, 176]).reshape(-1, 1).reshape(15,1)\n",
    "y = np.array([141, 106, 149, 59, 79, 136, 65, 136, 52, 87, 115, 140, 82, 69, 121]).reshape(-1, 1).reshape(15,1)\n",
    "\n",
    "x = np.asmatrix(np.c_[np.ones((15,1)),x])\n",
    "\n",
    "I = np.identity(2)\n",
    "alphas = np.arange(0.1,0.9,0.1) # change here\n",
    "\n",
    "wynik=[]\n",
    "for alpha in alphas:\n",
    "    w = np.linalg.inv(x.T*x + alpha * I)*x.T*y\n",
    "    w=w.ravel()\n",
    "    wynik.append(w)\n",
    "#ze względu na małą liczność próbki nie dzielę próbki na zbiory treningowy, testowy oraz walidacyjny\n",
    "mse=[]\n",
    "for i in np.arange(len(alphas)):\n",
    "    przewidywania=reg_predict(x[:,1],wynik[i][0,1],wynik[i][0,0])\n",
    "    przewidywania=np.asarray(przewidywania).ravel()\n",
    "    mse.append(np.dot(przewidywania-y.ravel(),przewidywania-y.ravel())/len(przewidywania))\n",
    "    \n",
    "print(\"Dla wybranych wartości parametru regularyzującego, przyjmując MSE jako 'quality metric' najlepsze wyniki otrzymano dla parametru \\u03B1={0}.\".format(alphas[np.argmin(mse)]))\n",
    "print(\"Dla tej wartości MSE wyniosło {0}, a wyznaczone parametry regresji to a={1}, b={2}, gdzie 'a' to 'wpływ' wzrostu na wagę, a 'b' waga 'bazowa'.\".format(mse[np.argmin(mse)],wynik[np.argmin(mse)][0,1],wynik[np.argmin(mse)][0,0]))"
   ]
  },
  {
   "cell_type": "markdown",
   "metadata": {},
   "source": [
    "## 2. Implement based on the Ridge regression example, the Lasso regression.\n",
    "\n",
    "Please implement the SGD method and compare the results with the sklearn Lasso regression results. "
   ]
  },
  {
   "cell_type": "code",
   "execution_count": 86,
   "metadata": {},
   "outputs": [],
   "source": [
    "def gradient(w, X, y,alpha):\n",
    "    return 2*np.matmul(np.transpose(X),np.matmul(X,w)-y)/len(y)+alpha*np.sign(w)\n",
    "\n",
    "#def gradient_descent_step(b, X, y, lr):\n",
    "#    return b-lr*gradient(b,X,y) \n",
    "\n",
    "def sgd(X,y,w_0,e,learning_rate,alpha,max_iter):\n",
    "    poprzedni=w_0\n",
    "    #print(gradient(w_0,X,y,alpha))\n",
    "    nastepny=w_0-gradient(w_0,X,y,alpha)*learning_rate\n",
    "    iteracje=0\n",
    "    while np.sum(np.abs(nastepny-poprzedni))>e and iteracje<max_iter:\n",
    "        #print(nastepny)\n",
    "        poprzedni=nastepny\n",
    "        nastepny=nastepny-gradient(nastepny,X,y,alpha)*learning_rate\n",
    "        #nastepny[nastepny < e] = 0\n",
    "        iteracje=iteracje+1\n",
    "    return nastepny\n",
    "\n"
   ]
  },
  {
   "cell_type": "code",
   "execution_count": 218,
   "metadata": {
    "scrolled": false
   },
   "outputs": [
    {
     "name": "stdout",
     "output_type": "stream",
     "text": [
      "(2, 1)\n",
      "[[-50.05192228]\n",
      " [  0.87730127]]\n",
      "[-168.19471366    1.54607814]\n",
      "524.0900897986381\n",
      "390.6929074601503\n",
      "(2, 1)\n",
      "(2, 1)\n",
      "[[-0.60103872]\n",
      " [ 0.59735831]]\n",
      "650.894624678235\n"
     ]
    },
    {
     "name": "stderr",
     "output_type": "stream",
     "text": [
      "C:\\Users\\ksypniew\\Anaconda3\\lib\\site-packages\\sklearn\\utils\\validation.py:598: FutureWarning: np.matrix usage is deprecated in 1.0 and will raise a TypeError in 1.2. Please convert to a numpy array with np.asarray. For more information see: https://numpy.org/doc/stable/reference/generated/numpy.matrix.html\n",
      "  FutureWarning,\n",
      "C:\\Users\\ksypniew\\Anaconda3\\lib\\site-packages\\sklearn\\utils\\validation.py:598: FutureWarning: np.matrix usage is deprecated in 1.0 and will raise a TypeError in 1.2. Please convert to a numpy array with np.asarray. For more information see: https://numpy.org/doc/stable/reference/generated/numpy.matrix.html\n",
      "  FutureWarning,\n",
      "C:\\Users\\ksypniew\\Anaconda3\\lib\\site-packages\\sklearn\\utils\\validation.py:598: FutureWarning: np.matrix usage is deprecated in 1.0 and will raise a TypeError in 1.2. Please convert to a numpy array with np.asarray. For more information see: https://numpy.org/doc/stable/reference/generated/numpy.matrix.html\n",
      "  FutureWarning,\n",
      "C:\\Users\\ksypniew\\Anaconda3\\lib\\site-packages\\sklearn\\utils\\validation.py:598: FutureWarning: np.matrix usage is deprecated in 1.0 and will raise a TypeError in 1.2. Please convert to a numpy array with np.asarray. For more information see: https://numpy.org/doc/stable/reference/generated/numpy.matrix.html\n",
      "  FutureWarning,\n"
     ]
    }
   ],
   "source": [
    "x = np.array([188, 181, 197, 168, 167, 187, 178, 194, 140, 176, 168, 192, 173, 142, 176]).reshape(-1, 1).reshape(15,1)\n",
    "y = np.array([141, 106, 149, 59, 79, 136, 65, 136, 52, 87, 115, 140, 82, 69, 121]).reshape(-1, 1).reshape(15,1)\n",
    "\n",
    "x = np.asmatrix(np.c_[np.ones((15,1)),x])\n",
    "\n",
    "\n",
    "alpha = 0.1 \n",
    "#wartości początkowe wybrane dość dowolnie, 'żeby działały'\n",
    "w0 = np.array([[-50],[10]])\n",
    "print(w0.shape)\n",
    "w=sgd(x,y,w0,0.0001,0.00001,alpha,1000)\n",
    "\n",
    "#w=w.flatten()\n",
    "print(w)\n",
    "import sklearn.linear_model as lm\n",
    "model=lm.Lasso(alpha=0.1,fit_intercept=False)\n",
    "wynik=model.fit(x,y)\n",
    "print(wynik.coef_)\n",
    "\n",
    "from sklearn.metrics import mean_squared_error as mse\n",
    "#wynik dla naszej metody korzystającej z algorytmu subgradient descent\n",
    "print(mse(y,np.matmul(x,w))+np.sum(np.abs(w)*0.1))\n",
    "#wynik dla metody z biblioteki sklearn korzystającej z algorytmu coordinate descent\n",
    "print(mse(y,wynik.predict(x))+np.sum(np.abs(wynik.coef_)*alpha))\n",
    "#nie jest zaskakujące, że zoptymalizowana metoda z odpowiedniego pakietu otrzymała lepsze dopasowanie, natomiast uzyskany przez nas wynik jest bardzo wrażliwy na wybór parametrów początkowych, dla wyższych learning rate nie jest on zbieżny, podobnie daje on bardzo zróżnicowane wyniki w zależności od zadanych parametrów początkowych (minima lokalne?), również zaimplementowana metoda ubgradient descent nie jest optymalna i w okolicy zera daje raczej złe dopasowanie\n",
    "#w tym przypadku objawia się to na przykłąd faktem, że zaczynając od dodatnich wartości wyrazu wolnego jego znak nie zmienia się w toku działania algorytmu, a główne dopasowanie następuje przez współczynnik kierunkowy\n",
    "\n",
    "#inicjalizacja w0 losowymi zmiennymi nie przynosi lepszych rezultatów\n",
    "w0=np.random.rand(2,1)\n",
    "#print(np.max(x[:,1].ravel()))\n",
    "w0[1,0]=np.random.randint(0,np.max(x[:,1].ravel()))\n",
    "print(w0.shape)\n",
    "w0.reshape(2,1)\n",
    "print(w0.shape)\n",
    "w=sgd(x,y,w0,0.0001,0.00001,alpha,1000)\n",
    "\n",
    "#w=w.flatten()\n",
    "print(w)\n",
    "print(mse(y,np.matmul(x,w))+np.sum(np.abs(w)*alpha))\n",
    "\n",
    "#by otrzymać lepsze rezultaty zmienne należałoby znormalizować\n",
    "\n",
    "\n"
   ]
  },
  {
   "cell_type": "markdown",
   "metadata": {},
   "source": [
    "## 3. Extend the Fisher's classifier\n",
    "\n",
    "Please extend the targets of the ``iris_data`` variable and use it as the $y$."
   ]
  },
  {
   "cell_type": "code",
   "execution_count": 198,
   "metadata": {
    "scrolled": true
   },
   "outputs": [
    {
     "name": "stdout",
     "output_type": "stream",
     "text": [
      "[ 3.21919292e+01  2.85391043e-01  2.97784462e-15 -6.14237690e-15]\n",
      "[[ 0.20874182 -0.00653196  0.8621428  -0.4476358 ]\n",
      " [ 0.38620369 -0.58661055 -0.2073099   0.43764602]\n",
      " [-0.55401172  0.25256154 -0.1692528   0.48683618]\n",
      " [-0.7073504  -0.76945309 -0.4302161  -0.60916227]]\n",
      "[[ 0.20874182 -0.00653196]\n",
      " [ 0.38620369 -0.58661055]\n",
      " [-0.55401172  0.25256154]\n",
      " [-0.7073504  -0.76945309]]\n"
     ]
    },
    {
     "name": "stderr",
     "output_type": "stream",
     "text": [
      "C:\\Users\\ksypniew\\Anaconda3\\lib\\site-packages\\ipykernel_launcher.py:26: SettingWithCopyWarning: \n",
      "A value is trying to be set on a copy of a slice from a DataFrame.\n",
      "Try using .loc[row_indexer,col_indexer] = value instead\n",
      "\n",
      "See the caveats in the documentation: https://pandas.pydata.org/pandas-docs/stable/user_guide/indexing.html#returning-a-view-versus-a-copy\n",
      "C:\\Users\\ksypniew\\Anaconda3\\lib\\site-packages\\ipykernel_launcher.py:27: SettingWithCopyWarning: \n",
      "A value is trying to be set on a copy of a slice from a DataFrame.\n",
      "Try using .loc[row_indexer,col_indexer] = value instead\n",
      "\n",
      "See the caveats in the documentation: https://pandas.pydata.org/pandas-docs/stable/user_guide/indexing.html#returning-a-view-versus-a-copy\n",
      "C:\\Users\\ksypniew\\Anaconda3\\lib\\site-packages\\ipykernel_launcher.py:28: SettingWithCopyWarning: \n",
      "A value is trying to be set on a copy of a slice from a DataFrame.\n",
      "Try using .loc[row_indexer,col_indexer] = value instead\n",
      "\n",
      "See the caveats in the documentation: https://pandas.pydata.org/pandas-docs/stable/user_guide/indexing.html#returning-a-view-versus-a-copy\n"
     ]
    },
    {
     "data": {
      "image/png": "[encoded data removed]",
      "text/plain": [
       "<Figure size 432x288 with 1 Axes>"
      ]
     },
     "metadata": {
      "needs_background": "light"
     },
     "output_type": "display_data"
    }
   ],
   "source": [
    "import pandas as pd\n",
    "import numpy as np\n",
    "import matplotlib.pyplot as plt\n",
    "from sklearn.datasets import load_iris\n",
    "\n",
    "iris_data = load_iris()\n",
    "iris_df = pd.DataFrame(iris_data.data,columns=iris_data.feature_names)\n",
    "iris_df.head()\n",
    "\n",
    "y=iris_data['target']\n",
    "x0=iris_df[iris_data['target']==0]\n",
    "x1=iris_df[iris_data['target']==1]\n",
    "x2=iris_df[iris_data['target']==2]\n",
    "m=np.mean(iris_df)\n",
    "srednie=[]\n",
    "m0=np.mean(x0)\n",
    "m1=np.mean(x1)\n",
    "m2=np.mean(x2)\n",
    "srednie.append(m0)\n",
    "srednie.append(m1)\n",
    "srednie.append(m2)\n",
    "#print(x0)\n",
    "for s in iris_data.feature_names:\n",
    "    #print(s)\n",
    "    #print(m0[s])\n",
    "    x0[s]=x0[s].subtract(m0[s])\n",
    "    x1[s]=x1[s].subtract(m1[s])\n",
    "    x2[s]=x2[s].subtract(m2[s])\n",
    "    \n",
    "#print(x0)\n",
    "x0=x0.to_numpy()\n",
    "x1=x1.to_numpy()\n",
    "x2=x2.to_numpy()\n",
    "S0=np.matmul(np.transpose(x0),x0)\n",
    "S1=np.matmul(np.transpose(x1),x1)\n",
    "S2=np.matmul(np.transpose(x2),x2)\n",
    "S=S0+S1+S2\n",
    "\n",
    "mm0=m-m0\n",
    "mm1=m-m1\n",
    "mm2=m-m2\n",
    "mm0=mm0.to_numpy().reshape(4,1)\n",
    "mm1=mm1.to_numpy().reshape(4,1)\n",
    "mm2=mm2.to_numpy().reshape(4,1)\n",
    "SM0=x0.shape[0]*np.matmul(mm0,np.transpose(mm0))\n",
    "SM1=x1.shape[0]*np.matmul(mm1,np.transpose(mm1))\n",
    "SM2=x2.shape[0]*np.matmul(mm2,np.transpose(mm2))\n",
    "SM=SM0+SM1+SM2\n",
    "wart_wlasne,wekt_wlasne=np.linalg.eig(np.matmul(np.linalg.inv(S),SM))\n",
    "print(wart_wlasne)\n",
    "print(wekt_wlasne)\n",
    "#widzimy, że tylko 2 wart. własne różnią się od zera (maksymalnie 2 takie mogą być, bo mamy 3 klasy klasyfikacji), więc na tych wektorach rozpięta będzie nowa 'feature space'\n",
    "w=wekt_wlasne[:,0:2]\n",
    "print(w)\n",
    "x=iris_df.to_numpy()\n",
    "nowex=np.matmul(x,w)\n",
    "plt.scatter(nowex[:,0],nowex[:,1],c=iris_data.target)\n",
    "plt.show()\n",
    "#widzimy, że poszczególne grupy są dobrze rozdzielone w nowej przestrzeni rozpiętej przez wektory własne odpowiadające największym wartościom własnym,\n",
    "#a ponadto widać też, że drugi z nich nie wnosi wiele do rozdzielenia, co było też widać po dużo mniejszej wartości własnej mu odpowiadającej."
   ]
  }
 ],
 "metadata": {
  "kernelspec": {
   "display_name": "Python 3 (ipykernel)",
   "language": "python",
   "name": "python3"
  },
  "language_info": {
   "codemirror_mode": {
    "name": "ipython",
    "version": 3
   },
   "file_extension": ".py",
   "mimetype": "text/x-python",
   "name": "python",
   "nbconvert_exporter": "python",
   "pygments_lexer": "ipython3",
   "version": "3.7.11"
  }
 },
 "nbformat": 4,
 "nbformat_minor": 4
}
